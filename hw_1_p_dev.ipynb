{
 "cells": [
  {
   "cell_type": "markdown",
   "id": "c14c1db6",
   "metadata": {},
   "source": [
    "# Задание 1\n",
    "Напишите программу, которая последовательно запрашивает у пользователя Дату и Описание задачи, а затем выводит их через пробел.\n",
    "\n",
    "Пример ввода-вывода программы:\n",
    "\n",
    "Введите дату: Сегодня\n",
    "Введите задачу: Сделать все дела\n",
    "Сегодня Сделать все дела"
   ]
  },
  {
   "cell_type": "code",
   "execution_count": 2,
   "id": "12dc152e",
   "metadata": {},
   "outputs": [
    {
     "name": "stdout",
     "output_type": "stream",
     "text": [
      "Введите дату: Сегодня\n",
      "Введите задачу: Сделать все дела\n",
      "Сегодня Сделать все дела\n"
     ]
    }
   ],
   "source": [
    "date = input('Введите дату: ')\n",
    "work = input('Введите задачу: ')\n",
    "print(f'{date} {work}')"
   ]
  },
  {
   "cell_type": "markdown",
   "id": "15b719f4",
   "metadata": {},
   "source": [
    "## Задание 2\n",
    "Модифицируйте программу из задания 1 таким образом, чтобы запрос даты и задачи выполнялся трижды и после этого результаты выводились на экран построчно в формате: на одной строчке дата и задача через пробел.\n",
    "\n",
    "Пример ввода-вывода программы:\n",
    "\n",
    "Введите дату: Сегодня\n",
    "Введите задачу: Выучить Python\n",
    "Введите дату: Завтра\n",
    "Введите задачу: Разработать TODO-приложение\n",
    "Введите дату: Послезавтра\n",
    "Введите задачу: Разработать Telegram-бота\n",
    "Сегодня Выучить Python\n",
    "Завтра Разработать TODO-приложение\n",
    "Послезавтра Разработать Telegram-бота"
   ]
  },
  {
   "cell_type": "code",
   "execution_count": 3,
   "id": "01a05945",
   "metadata": {},
   "outputs": [
    {
     "name": "stdout",
     "output_type": "stream",
     "text": [
      "Введите дату: Сегодня\n",
      "Введите задачу: Выучить Python\n",
      "Введите дату: Завтра\n",
      "Введите задачу: Разработать TODO-приложение\n",
      "Введите дату: Послезавтра\n",
      "Введите задачу: Разработать Telegram-бота\n",
      "Сегодня Выучить Python\n",
      "Завтра Разработать TODO-приложение\n",
      "Послезавтра Разработать Telegram-бота\n"
     ]
    }
   ],
   "source": [
    "i=-3\n",
    "date_work_dict = {}\n",
    "while i != 0:\n",
    "    date = input('Введите дату: ')\n",
    "    work = input('Введите задачу: ')\n",
    "    date_work_dict[date] = work\n",
    "    i += 1\n",
    "for key, value in date_work_dict.items():\n",
    "    print(f'{key} {value}')"
   ]
  },
  {
   "cell_type": "markdown",
   "id": "dc31c302",
   "metadata": {},
   "source": [
    "## Выполняя задание 2 сразу сделал задание 3"
   ]
  }
 ],
 "metadata": {
  "kernelspec": {
   "display_name": "Python 3 (ipykernel)",
   "language": "python",
   "name": "python3"
  },
  "language_info": {
   "codemirror_mode": {
    "name": "ipython",
    "version": 3
   },
   "file_extension": ".py",
   "mimetype": "text/x-python",
   "name": "python",
   "nbconvert_exporter": "python",
   "pygments_lexer": "ipython3",
   "version": "3.9.7"
  }
 },
 "nbformat": 4,
 "nbformat_minor": 5
}
